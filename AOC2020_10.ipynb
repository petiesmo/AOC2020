{
  "nbformat": 4,
  "nbformat_minor": 0,
  "metadata": {
    "colab": {
      "name": "AOC2020_10.ipynb",
      "provenance": [],
      "collapsed_sections": [],
      "toc_visible": true,
      "mount_file_id": "19Hgnn7I2kansPKd2C9CiPn8oGPr5CGWN",
      "authorship_tag": "ABX9TyOQRF4HeixAWpL17I3DCnz4",
      "include_colab_link": true
    },
    "kernelspec": {
      "name": "python3",
      "display_name": "Python 3"
    }
  },
  "cells": [
    {
      "cell_type": "markdown",
      "metadata": {
        "id": "view-in-github",
        "colab_type": "text"
      },
      "source": [
        "<a href=\"https://colab.research.google.com/github/petiesmo/AOC2020/blob/master/AOC2020_10.ipynb\" target=\"_parent\"><img src=\"https://colab.research.google.com/assets/colab-badge.svg\" alt=\"Open In Colab\"/></a>"
      ]
    },
    {
      "cell_type": "markdown",
      "metadata": {
        "id": "dmDtq9gG6mGE"
      },
      "source": [
        "# Advent of Code, Day 10: Joltage adapters\r\n",
        "Outlet rating is 0 jolts\r\n",
        "Adapters can take an input 1,2,or 3 jolts lower than its rating\r\n",
        "Device rating is +3 jolts higher than highest rated adapter\r\n",
        "\r\n",
        "Part 1: What is the product of 1-jolt jumps * 3-jolt jumps?\r\n",
        "\r\n",
        "Part 2: What is the total number of distinct ways you can arrange the adapters to connect the charging outlet to your device?"
      ]
    },
    {
      "cell_type": "code",
      "metadata": {
        "id": "96k93Jya73py",
        "colab": {
          "base_uri": "https://localhost:8080/"
        },
        "outputId": "7e92f7da-98ad-43b5-9a5a-57dce72804db"
      },
      "source": [
        "adapters = []\r\n",
        "file = '/content/AOC2020_10_inp.txt'\r\n",
        "with open(file,'r') as f:\r\n",
        "  for line in f:\r\n",
        "    adapters.append(int(line.rstrip('\\n')))\r\n",
        "ads = sorted(adapters)\r\n",
        "ads"
      ],
      "execution_count": 16,
      "outputs": [
        {
          "output_type": "execute_result",
          "data": {
            "text/plain": [
              "[1,\n",
              " 2,\n",
              " 3,\n",
              " 4,\n",
              " 7,\n",
              " 10,\n",
              " 11,\n",
              " 12,\n",
              " 15,\n",
              " 16,\n",
              " 17,\n",
              " 18,\n",
              " 19,\n",
              " 22,\n",
              " 25,\n",
              " 26,\n",
              " 27,\n",
              " 28,\n",
              " 31,\n",
              " 32,\n",
              " 35,\n",
              " 38,\n",
              " 39,\n",
              " 40,\n",
              " 41,\n",
              " 44,\n",
              " 45,\n",
              " 46,\n",
              " 47,\n",
              " 48,\n",
              " 51,\n",
              " 54,\n",
              " 55,\n",
              " 56,\n",
              " 57,\n",
              " 60,\n",
              " 63,\n",
              " 64,\n",
              " 65,\n",
              " 66,\n",
              " 69,\n",
              " 70,\n",
              " 71,\n",
              " 72,\n",
              " 75,\n",
              " 78,\n",
              " 79,\n",
              " 82,\n",
              " 83,\n",
              " 84,\n",
              " 85,\n",
              " 86,\n",
              " 89,\n",
              " 90,\n",
              " 91,\n",
              " 92,\n",
              " 95,\n",
              " 98,\n",
              " 99,\n",
              " 100,\n",
              " 103,\n",
              " 104,\n",
              " 105,\n",
              " 108,\n",
              " 109,\n",
              " 110,\n",
              " 113,\n",
              " 114,\n",
              " 115,\n",
              " 118,\n",
              " 119,\n",
              " 120,\n",
              " 121,\n",
              " 122,\n",
              " 125,\n",
              " 126,\n",
              " 127,\n",
              " 128,\n",
              " 129,\n",
              " 132,\n",
              " 133,\n",
              " 134,\n",
              " 135,\n",
              " 138,\n",
              " 139,\n",
              " 142,\n",
              " 143,\n",
              " 144,\n",
              " 147,\n",
              " 150,\n",
              " 151,\n",
              " 152,\n",
              " 153,\n",
              " 154,\n",
              " 157,\n",
              " 158,\n",
              " 159,\n",
              " 160,\n",
              " 161,\n",
              " 164,\n",
              " 167,\n",
              " 168]"
            ]
          },
          "metadata": {
            "tags": []
          },
          "execution_count": 16
        }
      ]
    },
    {
      "cell_type": "code",
      "metadata": {
        "colab": {
          "base_uri": "https://localhost:8080/"
        },
        "id": "cX4xL1U2K5IH",
        "outputId": "e248656f-22a3-4c50-9841-5756d81d299e"
      },
      "source": [
        "#Part 1\r\n",
        "print('Part 1')\r\n",
        "outlet_rating = 0\r\n",
        "device_rating = max(adapters) + 3\r\n",
        "ads.append(device_rating)\r\n",
        "ads.insert(0,outlet_rating)\r\n",
        "jumps = [ads[i+1]-ads[i] for i,a in enumerate(ads[:-1])]\r\n",
        "print(jumps)\r\n",
        "from collections import Counter\r\n",
        "hops = Counter(jumps)\r\n",
        "prod = hops[1] * hops[3]\r\n",
        "prod\r\n",
        "\r\n",
        "\r\n",
        "\r\n"
      ],
      "execution_count": 18,
      "outputs": [
        {
          "output_type": "stream",
          "text": [
            "Part 1\n",
            "[0, 1, 1, 1, 1, 3, 3, 1, 1, 3, 1, 1, 1, 1, 3, 3, 1, 1, 1, 3, 1, 3, 3, 1, 1, 1, 3, 1, 1, 1, 1, 3, 3, 1, 1, 1, 3, 3, 1, 1, 1, 3, 1, 1, 1, 3, 3, 1, 3, 1, 1, 1, 1, 3, 1, 1, 1, 3, 3, 1, 1, 3, 1, 1, 3, 1, 1, 3, 1, 1, 3, 1, 1, 1, 1, 3, 1, 1, 1, 1, 3, 1, 1, 1, 3, 1, 3, 1, 1, 3, 3, 1, 1, 1, 1, 3, 1, 1, 1, 1, 3, 3, 1, 3, 0]\n"
          ],
          "name": "stdout"
        },
        {
          "output_type": "execute_result",
          "data": {
            "text/plain": [
              "2346"
            ]
          },
          "metadata": {
            "tags": []
          },
          "execution_count": 18
        }
      ]
    },
    {
      "cell_type": "code",
      "metadata": {
        "colab": {
          "base_uri": "https://localhost:8080/"
        },
        "id": "YQW7jat2Z5qA",
        "outputId": "07200618-7968-4010-b483-442c9db4ad05"
      },
      "source": [
        "#Part 2\r\n",
        "print(f'Answer will be close to {2**hops[1]}')\r\n"
      ],
      "execution_count": 19,
      "outputs": [
        {
          "output_type": "stream",
          "text": [
            "Answer will be close to 590295810358705651712\n"
          ],
          "name": "stdout"
        }
      ]
    }
  ]
}