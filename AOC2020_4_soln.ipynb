{
 "cells": [
  {
   "cell_type": "code",
   "execution_count": 38,
   "metadata": {},
   "outputs": [],
   "source": [
    "from collections import deque\n",
    "import re"
   ]
  },
  {
   "cell_type": "code",
   "execution_count": 29,
   "metadata": {},
   "outputs": [
    {
     "data": {
      "text/plain": [
       "291"
      ]
     },
     "execution_count": 29,
     "metadata": {},
     "output_type": "execute_result"
    }
   ],
   "source": [
    "#AOC2020 Day4 - Checking passports\n",
    "with open('AOC2020_4.inp','r') as f:\n",
    "    lines = f.readlines()\n",
    "\n",
    "xmas = [y.rstrip('\\n') for y in lines]\n",
    "\n",
    "def make_doc(doc):\n",
    "    dd = {}\n",
    "    for d in doc:\n",
    "        a,b=d.split(\":\")\n",
    "        dd[a] = b\n",
    "    return dd\n",
    "    \n",
    "\n",
    "docs = []\n",
    "doc = []\n",
    "for line in xmas:\n",
    "    if line == '':\n",
    "        docs.append(make_doc(doc))\n",
    "        doc = []\n",
    "    else:\n",
    "        doc += line.split(' ')\n",
    "        #print(doc)\n",
    "docs.append(make_doc(doc))\n",
    "len(docs)\n"
   ]
  },
  {
   "cell_type": "code",
   "execution_count": 30,
   "metadata": {},
   "outputs": [
    {
     "data": {
      "text/plain": [
       "235"
      ]
     },
     "execution_count": 30,
     "metadata": {},
     "output_type": "execute_result"
    }
   ],
   "source": [
    " def valid_if(doc):\n",
    "        fields = ['byr','iyr','eyr','hgt','hcl','ecl','pid']\n",
    "        #print([f in doc.keys() for f in fields])\n",
    "        return all([f in doc.keys() for f in fields])\n",
    "            \n",
    "validity = [valid_if(doc) for doc in docs]\n",
    "validity.count(True)\n",
    "    \n",
    "#Part1 answer: 235"
   ]
  },
  {
   "cell_type": "code",
   "execution_count": 45,
   "metadata": {},
   "outputs": [
    {
     "data": {
      "text/plain": [
       "194"
      ]
     },
     "execution_count": 45,
     "metadata": {},
     "output_type": "execute_result"
    }
   ],
   "source": [
    "#Part2 - Add data validation\n",
    "def check_height(hgt):\n",
    "    units = hgt[-2:]\n",
    "    if units == 'cm':\n",
    "        return 150 <= int(hgt[:-2]) <= 193\n",
    "    elif units == 'in':\n",
    "        return 59 <= int(hgt[:-2]) <= 76\n",
    "    else:\n",
    "        return False\n",
    "\n",
    "def validation(doc):\n",
    "    if valid_if(doc) is False:\n",
    "        return False\n",
    "    else:\n",
    "        fields = ['byr','iyr','eyr','hgt','hcl','ecl','pid']\n",
    "        byr,iyr,eyr,hgt,hcl,ecl,pid = [doc[f] for f in fields]\n",
    "        valid = [\n",
    "            len(byr)==4 and 1920 <= int(byr) <= 2002,\n",
    "            len(iyr)==4 and 2010 <= int(iyr) <= 2020,\n",
    "            len(eyr)==4 and 2020 <= int(eyr) <= 2030,\n",
    "            check_height(hgt),\n",
    "            re.search(r'#[0-9a-f]{6}',hcl) is not None,\n",
    "            ecl in ['amb','blu','brn','gry','grn','hzl','oth'],\n",
    "            len(pid) == 9\n",
    "        ]\n",
    "    return all(valid)\n",
    "\n",
    "validity2 = [validation(doc) for doc in docs]\n",
    "validity2.count(True)\n",
    "#Part2 Answer: 194"
   ]
  }
 ],
 "metadata": {
  "kernelspec": {
   "display_name": "Python 3",
   "language": "python",
   "name": "python3"
  },
  "language_info": {
   "codemirror_mode": {
    "name": "ipython",
    "version": 3
   },
   "file_extension": ".py",
   "mimetype": "text/x-python",
   "name": "python",
   "nbconvert_exporter": "python",
   "pygments_lexer": "ipython3",
   "version": "3.7.3"
  }
 },
 "nbformat": 4,
 "nbformat_minor": 4
}
