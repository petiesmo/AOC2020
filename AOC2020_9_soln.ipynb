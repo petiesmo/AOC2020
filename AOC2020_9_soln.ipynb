{
 "cells": [
  {
   "cell_type": "code",
   "execution_count": 1,
   "metadata": {},
   "outputs": [],
   "source": [
    "from collections import deque"
   ]
  },
  {
   "cell_type": "code",
   "execution_count": 11,
   "metadata": {},
   "outputs": [],
   "source": [
    "preamble = 25\n",
    "with open('AOC2020_9.inp','r') as f:\n",
    "    x = f.readlines()\n",
    "\n",
    "xmas = [y.rstrip('\\n') for y in x]\n",
    "xmas = [int(n) for n in xmas]"
   ]
  },
  {
   "cell_type": "code",
   "execution_count": 12,
   "metadata": {},
   "outputs": [
    {
     "output_type": "stream",
     "name": "stdout",
     "text": [
      "57195069 is the first to not match\nReached end of string\n"
     ]
    }
   ],
   "source": [
    "cxmas = deque(xmas[preamble:])\n",
    "cache = deque(xmas[:preamble],preamble)\n",
    "\n",
    "while cxmas:\n",
    "    testnum = cxmas.popleft()\n",
    "    testcache = [testnum - n for n in cache]\n",
    "    if len(set(cache) & set(testcache)):\n",
    "        cache.append(testnum)\n",
    "    else:\n",
    "        print(f'{testnum} is the first to not match')\n",
    "        break\n",
    "\n",
    "print('Reached end of string')   \n",
    "\n",
    "#Part1 answer: 57195069"
   ]
  },
  {
   "cell_type": "code",
   "execution_count": 9,
   "metadata": {},
   "outputs": [
    {
     "name": "stdout",
     "output_type": "stream",
     "text": [
      "deque([3204444, 2173398, 2458349, 2954632, 3840898, 2963655, 2955986, 3558383, 2709364, 5235843, 3276412, 2745070, 2798952, 3214700, 5160364, 3946784, 3997835])\n"
     ]
    }
   ],
   "source": [
    "#Part2 - Find string that adds up to part1 answer\n",
    "target = 57195069\n",
    "crawler = deque()\n",
    "cxmas = xmas[:]\n",
    "while True:\n",
    "    if sum(crawler) == target:\n",
    "        seq = crawler\n",
    "        print(crawler)\n",
    "        break\n",
    "    elif sum(crawler) > target:\n",
    "        crawler.popleft()\n",
    "    else:\n",
    "        crawler.append(cxmas.pop(0))"
   ]
  },
  {
   "cell_type": "code",
   "execution_count": 10,
   "metadata": {},
   "outputs": [
    {
     "data": {
      "text/plain": [
       "7409241"
      ]
     },
     "execution_count": 10,
     "metadata": {},
     "output_type": "execute_result"
    }
   ],
   "source": [
    "ans = min(seq) + max(seq)\n",
    "ans"
   ]
  },
  {
   "cell_type": "code",
   "execution_count": null,
   "metadata": {},
   "outputs": [],
   "source": [
    "crawler = deque()\n",
    "target = 125\n",
    "while True:\n",
    "    if sum(crawler) == target:\n",
    "        print(crawler)\n",
    "        break\n",
    "    elif sum(crawler) > target:\n",
    "        crawler.popleft()\n",
    "    else:\n",
    "        crawler.append(xmas.pop(0))\n"
   ]
  },
  {
   "cell_type": "code",
   "execution_count": 14,
   "metadata": {},
   "outputs": [
    {
     "output_type": "execute_result",
     "data": {
      "text/plain": [
       "548"
      ]
     },
     "metadata": {},
     "execution_count": 14
    }
   ],
   "source": [
    "#Day 9, Part 2\n",
    "#Contiguous set of 2 or more numbers that sum to part 1 answer (57195069)\n",
    "xmas.index(57195069)"
   ]
  },
  {
   "cell_type": "code",
   "execution_count": null,
   "metadata": {},
   "outputs": [],
   "source": []
  }
 ],
 "metadata": {
  "kernelspec": {
   "display_name": "Python 3",
   "language": "python",
   "name": "python3"
  },
  "language_info": {
   "codemirror_mode": {
    "name": "ipython",
    "version": 3
   },
   "file_extension": ".py",
   "mimetype": "text/x-python",
   "name": "python",
   "nbconvert_exporter": "python",
   "pygments_lexer": "ipython3",
   "version": "3.7.3-final"
  }
 },
 "nbformat": 4,
 "nbformat_minor": 4
}