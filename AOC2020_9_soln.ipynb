{
 "cells": [
  {
   "cell_type": "code",
   "execution_count": 2,
   "metadata": {},
   "outputs": [],
   "source": [
    "from collections import deque\n",
    "\n"
   ]
  },
  {
   "cell_type": "code",
   "execution_count": 11,
   "metadata": {},
   "outputs": [],
   "source": [
    "preamble = 25\n",
    "with open('AOC2020_9.inp','r') as f:\n",
    "    x = f.readlines()\n",
    "\n",
    "xmas = [y.rstrip('\\n') for y in x]\n",
    "xmas = [int(n) for n in xmas]"
   ]
  },
  {
   "cell_type": "code",
   "execution_count": 12,
   "metadata": {},
   "outputs": [
    {
     "output_type": "stream",
     "name": "stdout",
     "text": [
      "57195069 is the first to not match\nReached end of string\n"
     ]
    }
   ],
   "source": [
    "cxmas = deque(xmas[preamble:])\n",
    "cache = deque(xmas[:preamble],preamble)\n",
    "\n",
    "while cxmas:\n",
    "    testnum = cxmas.popleft()\n",
    "    testcache = [testnum - n for n in cache]\n",
    "    if len(set(cache) & set(testcache)):\n",
    "        cache.append(testnum)\n",
    "    else:\n",
    "        print(f'{testnum} is the first to not match')\n",
    "        break\n",
    "\n",
    "print('Reached end of string')   \n"
   ]
  },
  {
   "cell_type": "code",
   "execution_count": 14,
   "metadata": {},
   "outputs": [
    {
     "output_type": "execute_result",
     "data": {
      "text/plain": [
       "548"
      ]
     },
     "metadata": {},
     "execution_count": 14
    }
   ],
   "source": [
    "#Day 9, Part 2\n",
    "#Contiguous set of 2 or more numbers that sum to part 1 answer (57195069)\n",
    "xmas.index(57195069)"
   ]
  },
  {
   "cell_type": "code",
   "execution_count": null,
   "metadata": {},
   "outputs": [],
   "source": []
  }
 ],
 "metadata": {
  "kernelspec": {
   "display_name": "Python 3",
   "language": "python",
   "name": "python3"
  },
  "language_info": {
   "codemirror_mode": {
    "name": "ipython",
    "version": 3
   },
   "file_extension": ".py",
   "mimetype": "text/x-python",
   "name": "python",
   "nbconvert_exporter": "python",
   "pygments_lexer": "ipython3",
   "version": "3.7.3-final"
  }
 },
 "nbformat": 4,
 "nbformat_minor": 4
}