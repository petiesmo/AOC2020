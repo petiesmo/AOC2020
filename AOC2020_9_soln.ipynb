{
 "cells": [
  {
   "cell_type": "code",
   "execution_count": 2,
   "metadata": {},
   "outputs": [],
   "source": [
    "from collections import deque\n",
    "\n"
   ]
  },
  {
   "cell_type": "code",
   "execution_count": 3,
   "metadata": {},
   "outputs": [
    {
     "data": {
      "text/plain": [
       "['35',\n",
       " '20',\n",
       " '15',\n",
       " '25',\n",
       " '47',\n",
       " '40',\n",
       " '62',\n",
       " '55',\n",
       " '65',\n",
       " '95',\n",
       " '102',\n",
       " '117',\n",
       " '150',\n",
       " '182',\n",
       " '127',\n",
       " '219',\n",
       " '299',\n",
       " '277',\n",
       " '309',\n",
       " '576']"
      ]
     },
     "execution_count": 3,
     "metadata": {},
     "output_type": "execute_result"
    }
   ],
   "source": [
    "preamble = 5\n",
    "with open('AOC2020_9.inp.txt','r') as f:\n",
    "    x = f.readlines()\n",
    "\n",
    "xmas = [y.rstrip('\\n') for y in x]"
   ]
  },
  {
   "cell_type": "code",
   "execution_count": 13,
   "metadata": {},
   "outputs": [
    {
     "name": "stdout",
     "output_type": "stream",
     "text": [
      "Reached end of string\n"
     ]
    }
   ],
   "source": [
    "cxmas = deque(xmas[preamble:])\n",
    "cache = deque(xmas[:preamble],preamble)\n",
    "\n",
    "while cxmas:\n",
    "    testnum = cxmas.popleft()\n",
    "    testcache = [int(testnum) - int(n) for n in cache]\n",
    "    if len(set(cache)-set(testcache)) >=2:\n",
    "        cache.append(testnum)\n",
    "    else:\n",
    "        print(f'{testnum} is the first to not match')\n",
    "        break\n",
    "\n",
    "print('Reached end of string')   \n"
   ]
  }
 ],
 "metadata": {
  "kernelspec": {
   "display_name": "Python 3",
   "language": "python",
   "name": "python3"
  },
  "language_info": {
   "codemirror_mode": {
    "name": "ipython",
    "version": 3
   },
   "file_extension": ".py",
   "mimetype": "text/x-python",
   "name": "python",
   "nbconvert_exporter": "python",
   "pygments_lexer": "ipython3",
   "version": "3.7.3"
  }
 },
 "nbformat": 4,
 "nbformat_minor": 4
}
