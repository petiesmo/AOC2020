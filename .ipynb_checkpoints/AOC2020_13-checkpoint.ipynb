{
 "cells": [
  {
   "cell_type": "code",
   "execution_count": 1,
   "metadata": {},
   "outputs": [],
   "source": [
    "eta = 1006401\n",
    "busids= [17,37,449,23,13,19,607,41,29]"
   ]
  },
  {
   "cell_type": "code",
   "execution_count": 2,
   "metadata": {},
   "outputs": [
    {
     "data": {
      "text/plain": [
       "[(17, 16),\n",
       " (37, 36),\n",
       " (449, 257),\n",
       " (23, 10),\n",
       " (13, 7),\n",
       " (19, 10),\n",
       " (607, 5),\n",
       " (41, 26),\n",
       " (29, 15)]"
      ]
     },
     "execution_count": 2,
     "metadata": {},
     "output_type": "execute_result"
    }
   ],
   "source": [
    "waits = [(b,b-eta%b) for b in busids]\n",
    "waits"
   ]
  },
  {
   "cell_type": "code",
   "execution_count": 3,
   "metadata": {},
   "outputs": [
    {
     "data": {
      "text/plain": [
       "3035"
      ]
     },
     "execution_count": 3,
     "metadata": {},
     "output_type": "execute_result"
    }
   ],
   "source": [
    "607*5"
   ]
  },
  {
   "cell_type": "code",
   "execution_count": 4,
   "metadata": {},
   "outputs": [],
   "source": [
    "gaps = [0,11,17,25,30,36,48,58,77]\n",
    "req = zip(busids,gaps)\n",
    "req=[i for i in req]"
   ]
  },
  {
   "cell_type": "code",
   "execution_count": 19,
   "metadata": {},
   "outputs": [
    {
     "data": {
      "text/plain": [
       "False"
      ]
     },
     "execution_count": 19,
     "metadata": {},
     "output_type": "execute_result"
    }
   ],
   "source": [
    "step=17\n",
    "abc = 10000\n",
    "t1=100000000000009\n",
    "while True:\n",
    "    if all([(t1+b)%a==0 for (a,b) in req]):\n",
    "        print(f'Found it at {t1}')\n",
    "        break\n",
    "    t1 += step\n",
    "    "
   ]
  }
 ],
 "metadata": {
  "kernelspec": {
   "display_name": "Python 3",
   "language": "python",
   "name": "python3"
  },
  "language_info": {
   "codemirror_mode": {
    "name": "ipython",
    "version": 3
   },
   "file_extension": ".py",
   "mimetype": "text/x-python",
   "name": "python",
   "nbconvert_exporter": "python",
   "pygments_lexer": "ipython3",
   "version": "3.7.3"
  }
 },
 "nbformat": 4,
 "nbformat_minor": 2
}
