{
 "cells": [
  {
   "cell_type": "markdown",
   "metadata": {
    "colab_type": "text",
    "id": "view-in-github"
   },
   "source": [
    "<a href=\"https://colab.research.google.com/github/petiesmo/AOC2020/blob/master/AOC2020_17.ipynb\" target=\"_parent\"><img src=\"https://colab.research.google.com/assets/colab-badge.svg\" alt=\"Open In Colab\"/></a>"
   ]
  },
  {
   "cell_type": "markdown",
   "metadata": {
    "id": "2MumJOseL-g_"
   },
   "source": [
    "#AOC2020 - Day 17\n",
    "##Power module startup states\n",
    "\n",
    "'Neighbors' = 26 adjacent cells (3x3x3 cube - current cell)\n",
    "\n",
    "Rules: If {cell=active & {2,3} neighbors=active} = Inactive\n",
    "\n",
    "if {cell!=active & {3} neighbors=active} = Active\n",
    "\n",
    "Part 1: How many cubes are left in the active state after the sixth cycle?\n",
    "\n",
    "Part 2: How many..."
   ]
  },
  {
   "cell_type": "code",
   "execution_count": null,
   "metadata": {
    "id": "K4ou0mM37CJu"
   },
   "outputs": [],
   "source": [
    "import numpy as np\n",
    "from pprint import pprint\n",
    "#Import from input deck\n",
    "input_file = r\"/AOC2020_17.inp\"\n",
    "with open(input_file,\"r\") as file:\n",
    "    lines = file.readlines().split('\\n')\n",
    "\n",
    "t0 = [line.split() for line in lines]"
   ]
  },
  {
   "cell_type": "code",
   "execution_count": null,
   "metadata": {
    "id": "gcUxu_YQ7JiO"
   },
   "outputs": [],
   "source": [
    "#Generate starting field\n",
    "nstartcycles = 6\n",
    "npad = nstartcycles + 2\n",
    "start_state = np.array(t0, dtype=int)\n",
    "region = np.pad(start_state,((npad,npad),),mode='constant')\n",
    "region"
   ]
  },
  {
   "cell_type": "code",
   "execution_count": null,
   "metadata": {
    "id": "CPNYBTXlDK7-"
   },
   "outputs": [],
   "source": [
    "cells = np.zeros(dim1,dtype=int)\n",
    "inner_cells = cells[1:-1,1:-1,1:-1]\n",
    "cells[0,1,2] = 15\n",
    "cells[0,2,3] = 30\n",
    "\n",
    "itercells = np.nditer(inner_cells, flags=['multi_index'])\n",
    "for cell in itercells:\n",
    "    ix,iy,iz = itercells.multi_index\n",
    "    print ((ix,iy,iz),cells[ix,iy,iz])"
   ]
  },
  {
   "cell_type": "code",
   "execution_count": null,
   "metadata": {
    "id": "VB5gusre-VKW"
   },
   "outputs": [],
   "source": [
    "#Iterate through the time steps\n",
    "nprox = [-1,0,1]\n",
    "nphases = 6\n",
    "#for ph in range(nphases):\n",
    "#Copy the changed state into the current state\n",
    "\n",
    "#Iterate over cells, capturing active state of neighbors "
   ]
  }
 ],
 "metadata": {
  "colab": {
   "authorship_tag": "ABX9TyOX5ZOUq7AFbSp2quKn5dWu",
   "include_colab_link": true,
   "name": "AOC2020_17.ipynb",
   "provenance": []
  },
  "kernelspec": {
   "display_name": "Python 3",
   "language": "python",
   "name": "python3"
  },
  "language_info": {
   "codemirror_mode": {
    "name": "ipython",
    "version": 3
   },
   "file_extension": ".py",
   "mimetype": "text/x-python",
   "name": "python",
   "nbconvert_exporter": "python",
   "pygments_lexer": "ipython3",
   "version": "3.5.2"
  }
 },
 "nbformat": 4,
 "nbformat_minor": 1
}
