{
 "cells": [
  {
   "cell_type": "markdown",
   "metadata": {},
   "source": [
    "##Advent of Code 2020 - Day 17\n",
    "#Battery Startup\n",
    "Within a control volume, the state of each node is evaluated - it's state at the next time step depends upon state of it's neighbors"
   ]
  },
  {
   "cell_type": "code",
   "execution_count": 8,
   "metadata": {},
   "outputs": [
    {
     "data": {
      "text/plain": [
       "[['#', '.', '.', '.', '#', '.', '#', '.'],\n",
       " ['.', '.', '#', '.', '#', '.', '#', '#'],\n",
       " ['.', '.', '#', '.', '.', '#', '.', '.'],\n",
       " ['.', '.', '.', '.', '.', '#', '#', '#'],\n",
       " ['.', '.', '.', '#', '.', '#', '.', '#'],\n",
       " ['#', '.', '#', '.', '#', '#', '.', '.'],\n",
       " ['#', '#', '#', '#', '#', '.', '.', '.'],\n",
       " ['.', '#', '.', '#', '.', '#', '#', '.']]"
      ]
     },
     "execution_count": 8,
     "metadata": {},
     "output_type": "execute_result"
    }
   ],
   "source": [
    "#Import the input deck\n",
    "with open(r'C:\\Users\\csmol\\Documents\\GitHub\\AOC2020\\AOC2020_17.inp','r') as f1:\n",
    "    lines = [line.rstrip('\\n') for line in f1.readlines()]\n",
    "    \n",
    "init_array = [list(line) for line in lines]\n",
    "init_array"
   ]
  },
  {
   "cell_type": "code",
   "execution_count": null,
   "metadata": {},
   "outputs": [],
   "source": [
    "#Build the initial control volume\n",
    "num_timesteps = 6\n"
   ]
  },
  {
   "cell_type": "code",
   "execution_count": null,
   "metadata": {},
   "outputs": [],
   "source": [
    "#Define logic conditions \n",
    "def new_state((x,y)):\n",
    "    "
   ]
  },
  {
   "cell_type": "code",
   "execution_count": null,
   "metadata": {},
   "outputs": [],
   "source": [
    "#At each time step, loop through the control volume,\n",
    "#evaluating state change to next time step\n"
   ]
  },
  {
   "cell_type": "code",
   "execution_count": null,
   "metadata": {},
   "outputs": [],
   "source": [
    "#Evaluate exit condition"
   ]
  }
 ],
 "metadata": {
  "kernelspec": {
   "display_name": "Python 3",
   "language": "python",
   "name": "python3"
  },
  "language_info": {
   "codemirror_mode": {
    "name": "ipython",
    "version": 3
   },
   "file_extension": ".py",
   "mimetype": "text/x-python",
   "name": "python",
   "nbconvert_exporter": "python",
   "pygments_lexer": "ipython3",
   "version": "3.7.3"
  }
 },
 "nbformat": 4,
 "nbformat_minor": 4
}
