{
  "nbformat": 4,
  "nbformat_minor": 0,
  "metadata": {
    "colab": {
      "name": "AOC2020_17.ipynb",
      "provenance": [],
      "authorship_tag": "ABX9TyOX5ZOUq7AFbSp2quKn5dWu",
      "include_colab_link": true
    },
    "kernelspec": {
      "name": "python3",
      "display_name": "Python 3"
    }
  },
  "cells": [
    {
      "cell_type": "markdown",
      "metadata": {
        "id": "view-in-github",
        "colab_type": "text"
      },
      "source": [
        "<a href=\"https://colab.research.google.com/github/petiesmo/AOC2020/blob/master/AOC2020_17.ipynb\" target=\"_parent\"><img src=\"https://colab.research.google.com/assets/colab-badge.svg\" alt=\"Open In Colab\"/></a>"
      ]
    },
    {
      "cell_type": "markdown",
      "metadata": {
        "id": "2MumJOseL-g_"
      },
      "source": [
        "#AOC2020 - Day 17\r\n",
        "##Power module startup states\r\n",
        "\r\n",
        "'Neighbors' = 26 adjacent cells (3x3x3 cube - current cell)\r\n",
        "\r\n",
        "Rules: If {cell=active + {2,3} neighbors=active} = Inactive\r\n",
        "\r\n",
        "if {cell!=active + {3} neighbors=active} = Active\r\n",
        "\r\n",
        "Part 1: How many...\r\n",
        "\r\n",
        "Part 2: How many..."
      ]
    },
    {
      "cell_type": "code",
      "metadata": {
        "id": "K4ou0mM37CJu"
      },
      "source": [
        "#Generate starting field\r\n",
        "import numpy as np\r\n",
        "from pprint import pprint\r\n",
        "#Import from input deck"
      ],
      "execution_count": null,
      "outputs": []
    },
    {
      "cell_type": "code",
      "metadata": {
        "id": "gcUxu_YQ7JiO"
      },
      "source": [
        "#dim0 = [1,3,3]\r\n",
        "#dim1 = [d+2 for d in dim0]\r\n",
        "start_state = np.ones((1,3,3), dtype=int)\r\n",
        "region = np.pad(start_state,((3,3),),mode='constant')\r\n",
        "region"
      ],
      "execution_count": null,
      "outputs": []
    },
    {
      "cell_type": "code",
      "metadata": {
        "id": "CPNYBTXlDK7-"
      },
      "source": [
        "cells = np.zeros(dim1,dtype=int)\r\n",
        "inner_cells = cells[1:-1,1:-1,1:-1]\r\n",
        "cells[0,1,2] = 15\r\n",
        "cells[0,2,3] = 30\r\n",
        "\r\n",
        "itercells = np.nditer(inner_cells, flags=['multi_index'])\r\n",
        "for cell in itercells:\r\n",
        "    ix,iy,iz = itercells.multi_index\r\n",
        "    print ((ix,iy,iz),cells[ix,iy,iz])"
      ],
      "execution_count": null,
      "outputs": []
    },
    {
      "cell_type": "code",
      "metadata": {
        "id": "VB5gusre-VKW"
      },
      "source": [
        "#Iterate through the time steps\r\n",
        "nprox = [-1,0,1]\r\n",
        "nphases = 6\r\n",
        "#for ph in range(nphases):\r\n",
        "#Copy the changed state into the current state\r\n",
        "\r\n",
        "#Iterate over cells, capturing active state of neighbors "
      ],
      "execution_count": null,
      "outputs": []
    }
  ]
}